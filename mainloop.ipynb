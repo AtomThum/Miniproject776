{
 "cells": [
  {
   "cell_type": "code",
   "execution_count": 475,
   "metadata": {},
   "outputs": [],
   "source": [
    "from elevator.elevator import Elevator\n",
    "from elevator.queues import Outlist, InternalQueue, ExternalQueue\n",
    "from elevator.people import People\n",
    "from elevator.generator import Generator\n",
    "\n",
    "internalQ = InternalQueue(floorAmount=6)\n",
    "externalQUp = ExternalQueue(floorAmount=6)\n",
    "externalQDown = ExternalQueue(floorAmount=6)\n",
    "outlist = Outlist()\n",
    "\n",
    "elevator = Elevator(\n",
    "    currentDirection=True,\n",
    "    currentFloor=1,\n",
    "    lowestFloor=0,\n",
    "    highestFloor=5,\n",
    "    carryingCapacity=10,\n",
    "    bufferCutoff=60,\n",
    "    internalQueue=internalQ,\n",
    "    externalQueueUp=externalQUp,\n",
    "    externalQueueDown=externalQDown,\n",
    "    outlist=outlist,\n",
    "    progression=0,\n",
    "    activeSpeed=5,\n",
    "    bufferSpeed=1,\n",
    ")\n",
    "\n",
    "generator = Generator(\n",
    "    initFloorRange=list(range(0, 6)),\n",
    "    initFloorWeight=[1 / 6] * 6,\n",
    "    finalFloorRange=list(range(0, 6)),\n",
    "    finalFloorWeight=[1 / 6] * 6,\n",
    "    amountRange=list(range(1, 4)),\n",
    "    amountWeight=[1 / 3] * 3,\n",
    "    targetElevator=elevator,\n",
    "    attemptPerCall=3,\n",
    "    probability=0.05,\n",
    ")\n"
   ]
  },
  {
   "cell_type": "code",
   "execution_count": 476,
   "metadata": {},
   "outputs": [],
   "source": [
    "generator.generatePeopleToElevator()\n",
    "\n",
    "def step():\n",
    "    generator.generatePeopleToElevator()\n",
    "    elevator.progressElevator()\n",
    "    if elevator.progression == 0:\n",
    "        elevator.unloadFromInternalQueue()\n",
    "        elevator.loadToInternalQueue()\n",
    "    else:\n",
    "        pass\n",
    "\n",
    "# tickAmount = 1000\n",
    "# for tick in range(tickAmount):\n",
    "#     step()"
   ]
  },
  {
   "cell_type": "code",
   "execution_count": 844,
   "metadata": {},
   "outputs": [
    {
     "name": "stdout",
     "output_type": "stream",
     "text": [
      "Going Up!\n",
      "Floor: 0\n",
      "['Going to 1: 2', 'Going to 2: 1', 'Going to 3: 2', 'Going to 4: 3', 'Going to 5: 4']\n",
      "Floor: 1\n",
      "['Going to 2: 3', 'Going to 3: 2', 'Going to 4: 1', 'Going to 5: 2']\n",
      "Floor: 2\n",
      "['Going to 3: 2', 'Going to 4: 1', 'Going to 5: 1']\n",
      "Floor: 3\n",
      "[]\n",
      "Floor: 4\n",
      "[]\n",
      "Floor: 5\n",
      "[]\n",
      "\n",
      "Going Down!\n",
      "Floor: 0\n",
      "[]\n",
      "Floor: 1\n",
      "['Going to 0: 2']\n",
      "Floor: 2\n",
      "['Going to 0: 3', 'Going to 1: 5']\n",
      "Floor: 3\n",
      "['Going to 1: 2']\n",
      "Floor: 4\n",
      "['Going to 1: 1', 'Going to 2: 1', 'Going to 3: 1']\n",
      "Floor: 5\n",
      "['Going to 0: 1', 'Going to 1: 1', 'Going to 2: 2', 'Going to 3: 1', 'Going to 4: 1']\n",
      "\n",
      "Elevator at 0,\n",
      " Going to -1,\n",
      " Progress: 0\n",
      "\n",
      "People in Lift:\n",
      "[]\n",
      "\n"
     ]
    }
   ],
   "source": [
    "step()\n",
    "\n",
    "print(\"Going Up!\")\n",
    "elevator.externalQueueUp.printQueue()\n",
    "print(\"\")\n",
    "\n",
    "print(\"Going Down!\")\n",
    "elevator.externalQueueDown.printQueue()\n",
    "print(\"\")\n",
    "\n",
    "direction = 1 if elevator.currentDirection else -1\n",
    "print(f\"Elevator at {elevator.currentFloor},\\n Going to {elevator.currentFloor + direction},\\n Progress: {elevator.progression}\")\n",
    "print(\"\")\n",
    "print(\"People in Lift:\")\n",
    "elevator.internalQueue.printQueue()\n",
    "print(\"\")"
   ]
  }
 ],
 "metadata": {
  "kernelspec": {
   "display_name": "base",
   "language": "python",
   "name": "python3"
  },
  "language_info": {
   "codemirror_mode": {
    "name": "ipython",
    "version": 3
   },
   "file_extension": ".py",
   "mimetype": "text/x-python",
   "name": "python",
   "nbconvert_exporter": "python",
   "pygments_lexer": "ipython3",
   "version": "3.9.18"
  }
 },
 "nbformat": 4,
 "nbformat_minor": 2
}
