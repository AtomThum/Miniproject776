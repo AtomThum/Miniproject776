{
 "cells": [
  {
   "cell_type": "code",
   "execution_count": 112,
   "metadata": {},
   "outputs": [],
   "source": [
    "from elevator import People, InternalQueue, ExternalQueue, Outlist, People, Elevator, OutlistMethods, QueueMethods, Generator"
   ]
  },
  {
   "cell_type": "code",
   "execution_count": 113,
   "metadata": {},
   "outputs": [
    {
     "name": "stdout",
     "output_type": "stream",
     "text": [
      "Progression: 0\n",
      "Current Floor: 2\n",
      "Next Floor: 0\n",
      "Current Direction: True\n",
      "Internal Queue: [[], [], [], [], []]\n",
      "External Queue Up: [[], [], [], [], []]\n",
      "External Queue Down: [[], [], [], [], []]\n",
      "Outlist: []\n"
     ]
    }
   ],
   "source": [
    "from elevator import People, InternalQueue, ExternalQueue, Outlist, People, Elevator, OutlistMethods, QueueMethods, Generator\n",
    "import pprint as pp\n",
    "\n",
    "floorAmount = 5\n",
    "insideQueue = InternalQueue(floorAmount=floorAmount)\n",
    "externalQueueUp = ExternalQueue(floorAmount=floorAmount)\n",
    "externalQueueDown = ExternalQueue(floorAmount=floorAmount)\n",
    "outlist = Outlist()\n",
    "elevator = Elevator(\n",
    "    currentDirection=False,\n",
    "    currentFloor=0,\n",
    "    lowestFloor=0,\n",
    "    highestFloor=floorAmount - 1,\n",
    "    carryingCapacity=10,\n",
    "    bufferCutoff=80,\n",
    "    internalQueue=insideQueue,\n",
    "    externalQueueUp=externalQueueUp,\n",
    "    externalQueueDown=externalQueueDown,\n",
    "    outlist=outlist,\n",
    "    activeSpeed=40,\n",
    "    bufferSpeed=10\n",
    ")\n",
    "\n",
    "generators = []\n",
    "for i in range(floorAmount):\n",
    "    generators.append(Generator(\n",
    "        initFloor=i,\n",
    "        finalFloorRange=[j for j in range(floorAmount) if j != i],\n",
    "        finalFloorWeight=[1 for j in range(floorAmount - 1)],\n",
    "        amountRange=list(range(1,4)),\n",
    "        amountWeight=[1 for j in range(1,4)],\n",
    "        targetElevator= elevator,\n",
    "        attemptPerCall=1,\n",
    "        probability=0.9\n",
    "    ))\n",
    "\n",
    "elevator.currentFloor = 2\n",
    "elevator.currentDirection = True\n",
    "elevator.outlist.outlist.clear()\n",
    "elevator.printElevatorInfo()"
   ]
  },
  {
   "cell_type": "code",
   "execution_count": 131,
   "metadata": {},
   "outputs": [
    {
     "name": "stdout",
     "output_type": "stream",
     "text": [
      "Progression: 0\n",
      "Current Floor: 2\n",
      "Next Floor: 2\n",
      "Current Direction: True\n",
      "Internal Queue: [[], [], [], [], []]\n",
      "External Queue Up: [[(0, 4),\n",
      "  (0, 2),\n",
      "  (0, 4),\n",
      "  (0, 2),\n",
      "  (0, 3),\n",
      "  (0, 1),\n",
      "  (0, 1),\n",
      "  (0, 1),\n",
      "  (0, 1),\n",
      "  (0, 4),\n",
      "  (0, 2),\n",
      "  (0, 3),\n",
      "  (0, 1),\n",
      "  (0, 1),\n",
      "  (0, 1),\n",
      "  (0, 2),\n",
      "  (0, 3),\n",
      "  (0, 3)],\n",
      " [(1, 3),\n",
      "  (1, 3),\n",
      "  (1, 2),\n",
      "  (1, 4),\n",
      "  (1, 3),\n",
      "  (1, 3),\n",
      "  (1, 4),\n",
      "  (1, 4),\n",
      "  (1, 3),\n",
      "  (1, 4),\n",
      "  (1, 3),\n",
      "  (1, 2)],\n",
      " [(2, 4), (2, 3), (2, 3), (2, 3), (2, 3), (2, 4), (2, 4), (2, 3)],\n",
      " [(3, 4), (3, 4), (3, 4)],\n",
      " []]\n",
      "External Queue Down: [[],\n",
      " [(1, 0), (1, 0), (1, 0)],\n",
      " [(2, 1), (2, 0), (2, 1), (2, 0), (2, 1), (2, 0), (2, 0), (2, 0)],\n",
      " [(3, 1),\n",
      "  (3, 2),\n",
      "  (3, 0),\n",
      "  (3, 1),\n",
      "  (3, 0),\n",
      "  (3, 2),\n",
      "  (3, 1),\n",
      "  (3, 2),\n",
      "  (3, 2),\n",
      "  (3, 2),\n",
      "  (3, 1),\n",
      "  (3, 0),\n",
      "  (3, 0),\n",
      "  (3, 2)],\n",
      " [(4, 3),\n",
      "  (4, 3),\n",
      "  (4, 2),\n",
      "  (4, 2),\n",
      "  (4, 0),\n",
      "  (4, 1),\n",
      "  (4, 1),\n",
      "  (4, 1),\n",
      "  (4, 0),\n",
      "  (4, 1),\n",
      "  (4, 2),\n",
      "  (4, 2),\n",
      "  (4, 0),\n",
      "  (4, 3),\n",
      "  (4, 1)]]\n",
      "Outlist: []\n"
     ]
    }
   ],
   "source": [
    "for i in generators:\n",
    "    i.generatePeopleToElevator()\n",
    "elevator.printElevatorInfo()"
   ]
  }
 ],
 "metadata": {
  "kernelspec": {
   "display_name": "Python 3",
   "language": "python",
   "name": "python3"
  },
  "language_info": {
   "codemirror_mode": {
    "name": "ipython",
    "version": 3
   },
   "file_extension": ".py",
   "mimetype": "text/x-python",
   "name": "python",
   "nbconvert_exporter": "python",
   "pygments_lexer": "ipython3",
   "version": "3.12.7"
  }
 },
 "nbformat": 4,
 "nbformat_minor": 2
}
