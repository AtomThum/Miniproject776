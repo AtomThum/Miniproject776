{
 "cells": [
  {
   "cell_type": "code",
   "execution_count": 21,
   "metadata": {},
   "outputs": [
    {
     "name": "stdout",
     "output_type": "stream",
     "text": [
      "Progression: 0\n",
      "Current Floor: 3\n",
      "Next Floor: 3\n",
      "Current Direction: True\n",
      "Internal Queue: [[], [], [], [], []]\n",
      "External Queue Up: [[], [], [], [], []]\n",
      "External Queue Down: [[], [], [], [], []]\n",
      "Outlist: []\n"
     ]
    }
   ],
   "source": [
    "import pprint as pp\n",
    "\n",
    "from elevator import (\n",
    "    People,\n",
    "    InternalQueue,\n",
    "    ExternalQueue,\n",
    "    Outlist,\n",
    "    Elevator,\n",
    "    OutlistMethods,\n",
    "    QueueMethods,\n",
    "    Generator,\n",
    ")\n",
    "\n",
    "floorAmount = 5\n",
    "insideQueue = InternalQueue(floorAmount=floorAmount)\n",
    "externalQueueUp = ExternalQueue(floorAmount=floorAmount)\n",
    "externalQueueDown = ExternalQueue(floorAmount=floorAmount)\n",
    "outlist = Outlist()\n",
    "elevator = Elevator(\n",
    "    currentDirection=False,\n",
    "    currentFloor=0,\n",
    "    lowestFloor=0,\n",
    "    highestFloor=floorAmount - 1,\n",
    "    carryingCapacity=10,\n",
    "    bufferCutoff=80,\n",
    "    internalQueue=insideQueue,\n",
    "    externalQueueUp=externalQueueUp,\n",
    "    externalQueueDown=externalQueueDown,\n",
    "    outlist=outlist,\n",
    "    activeSpeed=40,\n",
    "    bufferSpeed=10,\n",
    ")\n",
    "\n",
    "elevator.currentFloor = 3\n",
    "elevator.currentDirection = True\n",
    "elevator.addToExternalQueue()\n",
    "elevator.addToInternalQueue()\n",
    "elevator.outlist.outlist.clear()\n",
    "elevator.printElevatorInfo()"
   ]
  },
  {
   "cell_type": "code",
   "execution_count": 26,
   "metadata": {},
   "outputs": [
    {
     "name": "stdout",
     "output_type": "stream",
     "text": [
      "Progression: 0\n",
      "Current Floor: 3\n",
      "Next Floor: 3\n",
      "Current Direction: True\n",
      "Internal Queue: [[], [], [], [], []]\n",
      "External Queue Up: [[], [], [], [], []]\n",
      "External Queue Down: [[], [], [], [], []]\n",
      "Outlist: []\n"
     ]
    }
   ],
   "source": [
    "elevator.progressElevator()\n",
    "elevator.printElevatorInfo()"
   ]
  },
  {
   "cell_type": "code",
   "execution_count": null,
   "metadata": {},
   "outputs": [],
   "source": [
    "print(OutlistMethods.sumJourneyTime(outlist))\n",
    "print(OutlistMethods.sumWaitingTime(outlist))\n",
    "print(OutlistMethods.sumElevatorBreakCount(outlist))\n",
    "print(OutlistMethods.sumJourneyTime(outlist) / 3)"
   ]
  }
 ],
 "metadata": {
  "kernelspec": {
   "display_name": "Python 3",
   "language": "python",
   "name": "python3"
  },
  "language_info": {
   "codemirror_mode": {
    "name": "ipython",
    "version": 3
   },
   "file_extension": ".py",
   "mimetype": "text/x-python",
   "name": "python",
   "nbconvert_exporter": "python",
   "pygments_lexer": "ipython3",
   "version": "3.13.0"
  }
 },
 "nbformat": 4,
 "nbformat_minor": 2
}
