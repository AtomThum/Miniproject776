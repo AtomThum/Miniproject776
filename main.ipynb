{
 "cells": [
  {
   "cell_type": "code",
   "execution_count": null,
   "metadata": {},
   "outputs": [],
   "source": [
    "from elevator.elevator import Elevator\n",
    "from elevator.queues import InternalQueue, ExternalQueue, Outlist\n",
    "from elevator.people import People\n",
    "import pprint as pp\n",
    "\n",
    "floorAmount = 5\n",
    "insideQueue = InternalQueue(floorAmount=floorAmount)\n",
    "externalQueueUp = ExternalQueue(floorAmount=floorAmount)\n",
    "externalQueueDown = ExternalQueue(floorAmount=floorAmount)\n",
    "outlist = Outlist()\n",
    "elevator = Elevator(\n",
    "    currentDirection=False,\n",
    "    currentFloor=0,\n",
    "    lowestFloor=0,\n",
    "    highestFloor=floorAmount - 1,\n",
    "    carryingCapacity=10,\n",
    "    bufferCutoff=80,\n",
    "    internalQueue=insideQueue,\n",
    "    externalQueueUp=externalQueueUp,\n",
    "    externalQueueDown=externalQueueDown,\n",
    "    outlist=outlist,\n",
    "    activeSpeed=40,\n",
    "    bufferSpeed=10\n",
    ")\n",
    "\n",
    "elevator.currentFloor = 2\n",
    "elevator.currentDirection = True\n",
    "elevator.addToExternalQueue(People(0, 1), People(3, 4), People(3, 1), People(2, 0))\n",
    "elevator.addToInternalQueue(People(2, 4))\n",
    "elevator.outlist.outlist.clear()\n",
    "elevator.printElevatorInfo()"
   ]
  },
  {
   "cell_type": "code",
   "execution_count": null,
   "metadata": {},
   "outputs": [],
   "source": [
    "elevator.progressElevator()\n",
    "elevator.printElevatorInfo()"
   ]
  }
 ],
 "metadata": {
  "kernelspec": {
   "display_name": "Python 3",
   "language": "python",
   "name": "python3"
  },
  "language_info": {
   "codemirror_mode": {
    "name": "ipython",
    "version": 3
   },
   "file_extension": ".py",
   "mimetype": "text/x-python",
   "name": "python",
   "nbconvert_exporter": "python",
   "pygments_lexer": "ipython3",
   "version": "3.13.0"
  }
 },
 "nbformat": 4,
 "nbformat_minor": 2
}
