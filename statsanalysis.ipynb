{
 "cells": [
  {
   "cell_type": "code",
   "execution_count": 18,
   "metadata": {},
   "outputs": [],
   "source": [
    "from elevator.people import *\n",
    "from elevator.queues import *\n",
    "from elevator.elevator import *\n",
    "from elevator.generator import *"
   ]
  },
  {
   "cell_type": "code",
   "execution_count": 23,
   "metadata": {},
   "outputs": [
    {
     "ename": "TypeError",
     "evalue": "Elevator.__init__() missing 3 required positional arguments: 'internalQueue', 'externalQueueUp', and 'externalQueueDown'",
     "output_type": "error",
     "traceback": [
      "\u001b[0;31m---------------------------------------------------------------------------\u001b[0m",
      "\u001b[0;31mTypeError\u001b[0m                                 Traceback (most recent call last)",
      "Cell \u001b[0;32mIn[23], line 5\u001b[0m\n\u001b[1;32m      1\u001b[0m \u001b[38;5;66;03m#Test:\u001b[39;00m\n\u001b[1;32m      2\u001b[0m \u001b[38;5;66;03m#Start from floor 1, move up one floor\u001b[39;00m\n\u001b[1;32m      4\u001b[0m testOutlist \u001b[38;5;241m=\u001b[39m Outlist()\n\u001b[0;32m----> 5\u001b[0m testElevator \u001b[38;5;241m=\u001b[39m \u001b[43mElevator\u001b[49m\u001b[43m(\u001b[49m\n\u001b[1;32m      6\u001b[0m \u001b[43m    \u001b[49m\u001b[43mcurrentDirection\u001b[49m\u001b[38;5;241;43m=\u001b[39;49m\u001b[38;5;28;43;01mFalse\u001b[39;49;00m\u001b[43m,\u001b[49m\n\u001b[1;32m      7\u001b[0m \u001b[43m    \u001b[49m\u001b[43mcurrentFloor\u001b[49m\u001b[38;5;241;43m=\u001b[39;49m\u001b[38;5;241;43m1\u001b[39;49m\u001b[43m,\u001b[49m\n\u001b[1;32m      8\u001b[0m \u001b[43m    \u001b[49m\u001b[43mlowestFloor\u001b[49m\u001b[38;5;241;43m=\u001b[39;49m\u001b[38;5;241;43m1\u001b[39;49m\u001b[43m,\u001b[49m\n\u001b[1;32m      9\u001b[0m \u001b[43m    \u001b[49m\u001b[43mhighestFloor\u001b[49m\u001b[38;5;241;43m=\u001b[39;49m\u001b[38;5;241;43m3\u001b[39;49m\u001b[43m,\u001b[49m\n\u001b[1;32m     10\u001b[0m \u001b[43m    \u001b[49m\u001b[43mcarryingCapacity\u001b[49m\u001b[38;5;241;43m=\u001b[39;49m\u001b[38;5;241;43m10\u001b[39;49m\u001b[43m,\u001b[49m\n\u001b[1;32m     11\u001b[0m \u001b[43m    \u001b[49m\u001b[43mbufferCutoff\u001b[49m\u001b[38;5;241;43m=\u001b[39;49m\u001b[38;5;241;43m60\u001b[39;49m\u001b[43m,\u001b[49m\n\u001b[1;32m     12\u001b[0m \u001b[43m    \u001b[49m\u001b[43mprogression\u001b[49m\u001b[38;5;241;43m=\u001b[39;49m\u001b[38;5;241;43m99\u001b[39;49m\u001b[43m,\u001b[49m\n\u001b[1;32m     13\u001b[0m \u001b[43m    \u001b[49m\u001b[43moutlist\u001b[49m\u001b[38;5;241;43m=\u001b[39;49m\u001b[43mtestOutlist\u001b[49m\u001b[43m,\u001b[49m\n\u001b[1;32m     14\u001b[0m \u001b[43m)\u001b[49m\n\u001b[1;32m     16\u001b[0m \u001b[38;5;28mprint\u001b[39m(\u001b[38;5;124m\"\u001b[39m\u001b[38;5;124mINIT\u001b[39m\u001b[38;5;124m\"\u001b[39m)\n\u001b[1;32m     17\u001b[0m externalTemp \u001b[38;5;241m=\u001b[39m [People(\u001b[38;5;241m1\u001b[39m, \u001b[38;5;241m2\u001b[39m), People(\u001b[38;5;241m1\u001b[39m, \u001b[38;5;241m3\u001b[39m), People(\u001b[38;5;241m1\u001b[39m, \u001b[38;5;241m4\u001b[39m), People(\u001b[38;5;241m2\u001b[39m,\u001b[38;5;241m4\u001b[39m)]\n",
      "\u001b[0;31mTypeError\u001b[0m: Elevator.__init__() missing 3 required positional arguments: 'internalQueue', 'externalQueueUp', and 'externalQueueDown'"
     ]
    }
   ],
   "source": [
    "#Test:\n",
    "#Start from floor 1, move up one floor\n",
    "\n",
    "testOutlist = Outlist()\n",
    "testInternalQueue = InternalQueue()\n",
    "testElevator = Elevator(\n",
    "    currentDirection=False,\n",
    "    currentFloor=1,\n",
    "    lowestFloor=0,\n",
    "    highestFloor=3,\n",
    "    carryingCapacity=10,\n",
    "    bufferCutoff=60,\n",
    "    progression=99,\n",
    "    outlist=testOutlist,\n",
    ")\n",
    "\n",
    "print(\"INIT\")\n",
    "externalTemp = [People(1, 2), People(1, 3), People(1, 4), People(2,4)]"
   ]
  },
  {
   "cell_type": "code",
   "execution_count": 93,
   "metadata": {},
   "outputs": [],
   "source": []
  },
  {
   "cell_type": "code",
   "execution_count": 94,
   "metadata": {},
   "outputs": [],
   "source": [
    "# Main Debug Loop\n",
    "\n",
    "def mainLoop():\n",
    "    #Put main loop here\n",
    "    print(\"I dida main loop.\")\n",
    "\n",
    "def display():\n",
    "    #printout current state\n",
    "    print(\"printout\")\n",
    "\n",
    "while (True):\n",
    "    command = input(\"\")\n",
    "    if (command == \"amongus\"):\n",
    "        print(\"lol\")\n",
    "    elif (command == \"exit\"):\n",
    "        break"
   ]
  }
 ],
 "metadata": {
  "kernelspec": {
   "display_name": "usr",
   "language": "python",
   "name": "python3"
  },
  "language_info": {
   "codemirror_mode": {
    "name": "ipython",
    "version": 3
   },
   "file_extension": ".py",
   "mimetype": "text/x-python",
   "name": "python",
   "nbconvert_exporter": "python",
   "pygments_lexer": "ipython3",
   "version": "3.12.5"
  }
 },
 "nbformat": 4,
 "nbformat_minor": 2
}
