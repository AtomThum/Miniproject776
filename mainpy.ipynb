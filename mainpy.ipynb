{
 "cells": [
  {
   "cell_type": "code",
   "execution_count": 120,
   "metadata": {},
   "outputs": [
    {
     "ename": "SyntaxError",
     "evalue": "incomplete input (3837222211.py, line 65)",
     "output_type": "error",
     "traceback": [
      "\u001b[0;36m  Cell \u001b[0;32mIn[120], line 65\u001b[0;36m\u001b[0m\n\u001b[0;31m    \u001b[0m\n\u001b[0m    ^\u001b[0m\n\u001b[0;31mSyntaxError\u001b[0m\u001b[0;31m:\u001b[0m incomplete input\n"
     ]
    }
   ],
   "source": [
    "class People():\n",
    "    def __init__(self, \n",
    "\t\tstartFloor:int,\n",
    "\t\tdestinationFloor:int,\n",
    "\t\tamount:int = 1\n",
    "  \t):\n",
    "        self.startFloor = startFloor\n",
    "        self.destinationFloor = destinationFloor\n",
    "        self.amount = amount\n",
    "        self.waitingTimer = 0\n",
    "        self.journeyTimer = 0\n",
    "        self.direction = True if (destinationFloor - startFloor > 0) else False\n",
    "        self.elevatorBreakCount = 0\n",
    "\n",
    "\n",
    "class Elevator():\n",
    "    def __init__(self,\n",
    "            direction:bool, floor:int, minFloor:int, maxFloor:int, carryLimit:int, bufferCutoff:float,\n",
    "            progression:float = 0,\n",
    "            activeSpeed:float = 5,\n",
    "            bufferSpeed:float = 1,\n",
    "            *args:People\n",
    "        ):\n",
    "        self.direction = direction # True -> going up, False = going down\n",
    "        self.floor = floor\n",
    "        self.minFloor = minFloor\n",
    "        self.maxFloor = maxFloor\n",
    "        self.carryLimit = carryLimit\n",
    "        self.progression = progression # In the range 0 - 100 (If enters new floor, progression = 0)\n",
    "        self.bufferCutoff = bufferCutoff # In the range 0 - 100\n",
    "        self.activeSpeed = activeSpeed\n",
    "        self.bufferSpeed = bufferSpeed\n",
    "        \n",
    "        self.internalQueue = []\n",
    "        self.internalQueueNum = 0\n",
    "        self.externalQueue = []\n",
    "        for i in args:\n",
    "            self.peopleIn.append(i)\n",
    "                \n",
    "    def progressElevator(self):\n",
    "        if self.floor >= self.maxFloor:\n",
    "            self.direction = not self.direction\n",
    "            self.floor -= 1\n",
    "            self.progression = 0\n",
    "        if self.floor <= self.minFloor:\n",
    "            self.direction = not self.direction\n",
    "            self.floor += 1\n",
    "            self.progression = 0\n",
    "        \n",
    "        if self.progression >= self.bufferCutoff:\n",
    "            speed = self.bufferSpeed\n",
    "        else:\n",
    "            speed = self.activeSpeed\n",
    "            \n",
    "        self.progression += speed\n",
    "        if self.progression > 100:\n",
    "            self.progression = 0\n",
    "            if self.direction == True:\n",
    "                self.floor += 1\n",
    "            else:\n",
    "                self.floor -= 1\n",
    "    \n",
    "    def loadElevator(self, *args:People):\n",
    "        for people in args:\n",
    "            if people.amount + self.internalQueueNum <= self.carryLimit:\n",
    "                self.internalQueue.append(people)\n",
    "                self.internalQueueNum += people.amount\n",
    "            else:\n",
    "                leftoverNum = people.amount + self.internalQueueNum - self.carryLimit\n",
    "                leftoverPeople = People(people.startFloor, people.destinationFloor, amount = leftoverNum)\n",
    "                people.amount -= leftoverNum\n",
    "                self.internalQueue.append(people)\n",
    "                self.externalQueue.append(leftoverPeople)"
   ]
  },
  {
   "cell_type": "code",
   "execution_count": 112,
   "metadata": {},
   "outputs": [],
   "source": [
    "foo = Elevator(\n",
    "\tdirection = False,\n",
    "\tfloor = 2,\n",
    " \tminFloor = 1,\n",
    "\tmaxFloor = 3,\n",
    "\tcarryLimit = 10,\n",
    "\tbufferCutoff = 60,\n",
    "\tprogression = 99\n",
    ")"
   ]
  },
  {
   "cell_type": "code",
   "execution_count": 119,
   "metadata": {},
   "outputs": [
    {
     "data": {
      "text/plain": [
       "[<__main__.People at 0x7ff5e8889d60>,\n",
       " <__main__.People at 0x7ff5e9d58ef0>,\n",
       " <__main__.People at 0x7ff5e881dd00>,\n",
       " <__main__.People at 0x7ff5e881fc20>,\n",
       " <__main__.People at 0x7ff5e881ede0>,\n",
       " <__main__.People at 0x7ff5e881c260>,\n",
       " <__main__.People at 0x7ff5e881dee0>]"
      ]
     },
     "execution_count": 119,
     "metadata": {},
     "output_type": "execute_result"
    }
   ],
   "source": [
    "foo.loadElevator(People(1, 2, 3))\n",
    "\n",
    "foo.internalQueue"
   ]
  }
 ],
 "metadata": {
  "kernelspec": {
   "display_name": "usr",
   "language": "python",
   "name": "python3"
  },
  "language_info": {
   "codemirror_mode": {
    "name": "ipython",
    "version": 3
   },
   "file_extension": ".py",
   "mimetype": "text/x-python",
   "name": "python",
   "nbconvert_exporter": "python",
   "pygments_lexer": "ipython3",
   "version": "3.12.4"
  }
 },
 "nbformat": 4,
 "nbformat_minor": 2
}
