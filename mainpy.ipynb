{
 "cells": [
  {
   "cell_type": "code",
   "execution_count": 1,
   "metadata": {},
   "outputs": [],
   "source": [
    "from elevator import Elevator\n",
    "from outlist import Outlist\n",
    "from people import People\n",
    "from generator import Generator"
   ]
  },
  {
   "cell_type": "code",
   "execution_count": 2,
   "metadata": {},
   "outputs": [
    {
     "name": "stdout",
     "output_type": "stream",
     "text": [
      "INIT\n"
     ]
    }
   ],
   "source": [
    "#Test:\n",
    "#Start from floor 1, move up one floor\n",
    "\n",
    "testOutlist = Outlist()\n",
    "testElevator = Elevator(\n",
    "    direction=False,\n",
    "    floor=1,\n",
    "    minFloor=1,\n",
    "    maxFloor=3,\n",
    "    carryLimit=10,\n",
    "    bufferCutoff=60,\n",
    "    progression=99,\n",
    "    outList=testOutlist,\n",
    ")\n",
    "\n",
    "print(\"INIT\")\n",
    "externalTemp = [People(1, 2), People(1, 3), People(1, 4), People(2,4)]"
   ]
  },
  {
   "cell_type": "code",
   "execution_count": 93,
   "metadata": {},
   "outputs": [],
   "source": [
    "# INIT"
   ]
  },
  {
   "cell_type": "code",
   "execution_count": 94,
   "metadata": {},
   "outputs": [],
   "source": [
    "# Main Debug Loop\n",
    "\n",
    "def mainLoop():\n",
    "    #Put main loop here\n",
    "    print(\"I dida main loop.\")\n",
    "\n",
    "def display():\n",
    "    #printout current state\n",
    "    print(\"printout\")\n",
    "\n",
    "while (True):\n",
    "    command = input(\"\")\n",
    "    if (command == \"amongus\"):\n",
    "        print(\"lol\")\n",
    "    elif (command == \"exit\"):\n",
    "        break"
   ]
  }
 ],
 "metadata": {
  "kernelspec": {
   "display_name": "usr",
   "language": "python",
   "name": "python3"
  },
  "language_info": {
   "codemirror_mode": {
    "name": "ipython",
    "version": 3
   },
   "file_extension": ".py",
   "mimetype": "text/x-python",
   "name": "python",
   "nbconvert_exporter": "python",
   "pygments_lexer": "ipython3",
   "version": "3.12.5"
  }
 },
 "nbformat": 4,
 "nbformat_minor": 2
}
