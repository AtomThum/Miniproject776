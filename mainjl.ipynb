{
 "cells": [
  {
   "cell_type": "code",
   "execution_count": 3,
   "metadata": {},
   "outputs": [],
   "source": [
    "using StatsBase\n",
    "using Distributions"
   ]
  },
  {
   "cell_type": "code",
   "execution_count": 4,
   "metadata": {},
   "outputs": [],
   "source": [
    "# Creating a class for a function\n",
    "mutable struct People\n",
    "    startFloor\n",
    "    destinationFloor\n",
    "    waitingTimer\n",
    "    journeyTimer\n",
    "    elevatorBreakCount\n",
    "    amount\n",
    "    direction\n",
    "    function People(startFloor, destinationFloor, amount)\n",
    "        new(startFloor, destinationFloor, 0, 0, 0, amount, sign(destinationFloor - startFloor))\n",
    "    end\n",
    "end"
   ]
  },
  {
   "cell_type": "code",
   "execution_count": 5,
   "metadata": {},
   "outputs": [],
   "source": [
    "# Constants\n",
    "global numberOfFloors = 5\n",
    "global minQueueAdd = 0\n",
    "global maxQueueAdd = 5\n",
    "global departurePeoplePerAction = 1\n",
    "global departureTimePerAction = 1\n",
    "global boardingPeoplePerAction = 1\n",
    "global boardingeTimePerAction = 1\n",
    "global extraEasingTimePerFloor = 1\n",
    "global normalTimePerFloor = 1\n",
    "global maxAmount = 5\n",
    "# global wrongDirectionBoardingChance = 1\n",
    "global currentTime = 0\n",
    "global timeLimit = 100\n",
    "global closedTimer = 0\n",
    "\n",
    "# isOpen = true\n",
    "currentFloor = 1\n",
    "elevatorCapacity = 10\n",
    "direction = 1\n",
    "elevatorDestination = 1\n",
    "\n",
    "global peopleArchive = []\n",
    "global floorQueue = []\n",
    "global elevatorQueue = []\n",
    "\n",
    "for i ∈ 1:numberOfFloors\n",
    "    push!(floorQueue, [])\n",
    "end"
   ]
  },
  {
   "cell_type": "code",
   "execution_count": 6,
   "metadata": {},
   "outputs": [
    {
     "data": {
      "text/plain": [
       "generatePeople (generic function with 1 method)"
      ]
     },
     "metadata": {},
     "output_type": "display_data"
    }
   ],
   "source": [
    "function generatePeople(startFloor)\n",
    "    generateWeight = Weights([0.9, 0.1])\n",
    "    isGenerate = sample([false, true], generateWeight)\n",
    "\n",
    "    if isGenerate == true\n",
    "        endFloor = rand(deleteat!(collect(1:numberOfFloors), startFloor))\n",
    "        amount = rand(collect(1:maxAmount))\n",
    "        peopleGroup = People(startFloor, endFloor, amount)\n",
    "        return peopleGroup\n",
    "    end\n",
    "end"
   ]
  },
  {
   "cell_type": "code",
   "execution_count": 7,
   "metadata": {},
   "outputs": [
    {
     "data": {
      "text/plain": [
       "directionalScan (generic function with 1 method)"
      ]
     },
     "metadata": {},
     "output_type": "display_data"
    }
   ],
   "source": [
    "function directionalScan(floorQueue, elevatorQueue, currentFloor, direction)\n",
    "    insideQueue = sort!([i.destinationFloor for i in elevatorQueue])\n",
    "\n",
    "    outsideQueueTemp1 = [filter(obj -> obj.direction == direction, i) for i in floorQueue]\n",
    "    outsideQueueTemp2 = (iszero.(length.(outsideQueueTemp1)) .- 1) .* -1\n",
    "    outsideQueue = [i * outsideQueueTemp2[i] for i in 1:numberOfFloors]\n",
    "    \n",
    "    combinedQueue = filter(x -> x != 0, unique(vcat(insideQueue, outsideQueue)))\n",
    "    if direction == 1\n",
    "        elevatorPath = filter(x -> x > currentFloor, combinedQueue)\n",
    "    else\n",
    "        elevatorPath = filter(x -> x < currentFloor, combinedQueue)\n",
    "    end\n",
    "    return elevatorPath\n",
    "end"
   ]
  },
  {
   "cell_type": "code",
   "execution_count": null,
   "metadata": {},
   "outputs": [],
   "source": [
    "function isInBuffer(floorQueue, elevatorQueue, currentFloor, direction)\n",
    "    if \n",
    "end"
   ]
  }
 ],
 "metadata": {
  "kernelspec": {
   "display_name": "Julia 1.10.3",
   "language": "julia",
   "name": "julia-1.10"
  },
  "language_info": {
   "file_extension": ".jl",
   "mimetype": "application/julia",
   "name": "julia",
   "version": "1.10.3"
  }
 },
 "nbformat": 4,
 "nbformat_minor": 2
}
