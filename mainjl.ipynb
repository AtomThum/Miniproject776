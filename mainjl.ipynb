{
 "cells": [
  {
   "cell_type": "code",
   "execution_count": 3,
   "metadata": {},
   "outputs": [
    {
     "name": "stderr",
     "output_type": "stream",
     "text": [
      "\u001b[32m\u001b[1m    Updating\u001b[22m\u001b[39m registry at `C:\\Users\\LENOVO\\.julia\\registries\\General.toml`\n",
      "\u001b[32m\u001b[1m   Resolving\u001b[22m\u001b[39m package versions...\n",
      "\u001b[32m\u001b[1m  No Changes\u001b[22m\u001b[39m to `C:\\Users\\LENOVO\\.julia\\environments\\v1.10\\Project.toml`\n",
      "\u001b[32m\u001b[1m  No Changes\u001b[22m\u001b[39m to `C:\\Users\\LENOVO\\.julia\\environments\\v1.10\\Manifest.toml`\n",
      "\u001b[32m\u001b[1m   Resolving\u001b[22m\u001b[39m package versions...\n",
      "\u001b[32m\u001b[1m  No Changes\u001b[22m\u001b[39m to `C:\\Users\\LENOVO\\.julia\\environments\\v1.10\\Project.toml`\n",
      "\u001b[32m\u001b[1m  No Changes\u001b[22m\u001b[39m to `C:\\Users\\LENOVO\\.julia\\environments\\v1.10\\Manifest.toml`\n"
     ]
    }
   ],
   "source": [
    "import Pkg\n",
    "Pkg.add(\"StatsBase\")\n",
    "Pkg.add(\"Distributions\")\n",
    "using StatsBase\n",
    "using Distributions"
   ]
  },
  {
   "cell_type": "code",
   "execution_count": 4,
   "metadata": {},
   "outputs": [],
   "source": [
    "# Creating a class for a function\n",
    "mutable struct People\n",
    "    startFloor\n",
    "    destinationFloor\n",
    "    waitingTimer\n",
    "    journeyTimer\n",
    "    elevatorBreakCount\n",
    "    amount\n",
    "    direction\n",
    "    function People(startFloor, destinationFloor, amount)\n",
    "        new(startFloor, destinationFloor, 0, 0, 0, amount, sign(destinationFloor - startFloor))\n",
    "    end\n",
    "end"
   ]
  },
  {
   "cell_type": "code",
   "execution_count": 5,
   "metadata": {},
   "outputs": [],
   "source": [
    "# Constants\n",
    "global numberOfFloors = 5\n",
    "global minQueueAdd = 0\n",
    "global maxQueueAdd = 5\n",
    "global departurePeoplePerAction = 1\n",
    "global departureTimePerAction = 1\n",
    "global boardingPeoplePerAction = 1\n",
    "global boardingeTimePerAction = 1\n",
    "global extraEasingTimePerFloor = 1\n",
    "global normalTimePerFloor = 1\n",
    "global maxAmount = 5\n",
    "# global wrongDirectionBoardingChance = 1\n",
    "global currentTime = 0\n",
    "global timeLimit = 100\n",
    "global closedTimer = 0\n",
    "\n",
    "# Time used per travel\n",
    "timeUsed(floorsTravelled) = 1 + floorsTravelled * 3\n",
    "\n",
    "# isOpen = true\n",
    "currentFloor = 1\n",
    "elevatorCapacity = 10\n",
    "direction = 1\n",
    "elevatorDestination = 1\n",
    "\n",
    "global peopleArchive = []\n",
    "global floorQueue = []\n",
    "global elevatorQueue = []\n",
    "\n",
    "for i ∈ 1:numberOfFloors\n",
    "    push!(floorQueue, [])\n",
    "end"
   ]
  },
  {
   "cell_type": "code",
   "execution_count": 31,
   "metadata": {},
   "outputs": [
    {
     "ename": "BoundsError",
     "evalue": "BoundsError: attempt to access 5-element Vector{Int64} at index [10]",
     "output_type": "error",
     "traceback": [
      "BoundsError: attempt to access 5-element Vector{Int64} at index [10]\n",
      "\n",
      "Stacktrace:\n",
      " [1] _deleteat!\n",
      "   @ .\\array.jl:1083 [inlined]\n",
      " [2] deleteat!\n",
      "   @ .\\array.jl:1588 [inlined]\n",
      " [3] generatePeople(startFloor::Int64)\n",
      "   @ Main c:\\Users\\LENOVO\\Documents\\GitHub\\Elevator\\Miniproject776\\mainjl.ipynb:6\n",
      " [4] top-level scope\n",
      "   @ c:\\Users\\LENOVO\\Documents\\GitHub\\Elevator\\Miniproject776\\mainjl.ipynb:14"
     ]
    }
   ],
   "source": [
    "function generatePeople(startFloor)\n",
    "    generateWeight = Weights([0.9, 0.1])\n",
    "    isGenerate = sample([false, true], generateWeight)\n",
    "\n",
    "    if isGenerate == true\n",
    "        endFloor = rand(deleteat!(collect(1:numberOfFloors), startFloor))\n",
    "        amount = rand(collect(1:maxAmount))\n",
    "        peopleGroup = People(startFloor, endFloor, amount)\n",
    "        return peopleGroup\n",
    "    else\n",
    "        return\n",
    "    end\n",
    "end\n",
    "generatePeople(10)"
   ]
  },
  {
   "cell_type": "code",
   "execution_count": 7,
   "metadata": {},
   "outputs": [
    {
     "data": {
      "text/plain": [
       "directionalScan (generic function with 1 method)"
      ]
     },
     "metadata": {},
     "output_type": "display_data"
    }
   ],
   "source": [
    "function directionalScan(floorQueue, elevatorQueue, currentFloor, direction)\n",
    "    insideQueue = sort!([i.destinationFloor for i in elevatorQueue])\n",
    "\n",
    "    outsideQueueTemp1 = [filter(obj -> obj.direction == direction, i) for i in floorQueue] #Filter only people in same direction\n",
    "    outsideQueueTemp2 = (iszero.(length.(outsideQueueTemp1)) .- 1) .* -1 #that queue aint zero\n",
    "    outsideQueue = [i * outsideQueueTemp2[i] for i in 1:numberOfFloors] #floors that aint zero\n",
    "    \n",
    "    combinedQueue = filter(x -> x != 0, unique(vcat(insideQueue, outsideQueue))) #floors that we have to stop at\n",
    "    if direction == 1\n",
    "        elevatorPath = filter(x -> x > currentFloor, combinedQueue) # floors that we can stop at\n",
    "    else\n",
    "        elevatorPath = filter(x -> x < currentFloor, combinedQueue)\n",
    "    end\n",
    "    return elevatorPath\n",
    "end"
   ]
  },
  {
   "cell_type": "code",
   "execution_count": 8,
   "metadata": {},
   "outputs": [
    {
     "ename": "Base.Meta.ParseError",
     "evalue": "ParseError:\n# Error @ c:\\Users\\LENOVO\\Documents\\GitHub\\Elevator\\Miniproject776\\mainjl.ipynb:5:4\n    end\nend\n#  └ ── Expected `end`",
     "output_type": "error",
     "traceback": [
      "ParseError:\n",
      "# Error @ c:\\Users\\LENOVO\\Documents\\GitHub\\Elevator\\Miniproject776\\mainjl.ipynb:5:4\n",
      "    end\n",
      "end\n",
      "#  └ ── Expected `end`\n",
      "\n",
      "Stacktrace:\n",
      " [1] top-level scope\n",
      "   @ c:\\Users\\LENOVO\\Documents\\GitHub\\Elevator\\Miniproject776\\mainjl.ipynb:5"
     ]
    }
   ],
   "source": [
    "function addTime(floorQueue, elevatorQueue, addedTime)\n",
    "    for i in elevatorQueue\n",
    "        i.\n",
    "    end\n",
    "end"
   ]
  },
  {
   "cell_type": "code",
   "execution_count": 9,
   "metadata": {},
   "outputs": [],
   "source": []
  },
  {
   "cell_type": "code",
   "execution_count": 38,
   "metadata": {},
   "outputs": [
    {
     "ename": "ErrorException",
     "evalue": "type Nothing has no field direction",
     "output_type": "error",
     "traceback": [
      "type Nothing has no field direction\n",
      "\n",
      "Stacktrace:\n",
      " [1] getproperty(x::Nothing, f::Symbol)\n",
      "   @ Base .\\Base.jl:37\n",
      " [2] (::var\"#11#18\"{Int64})(obj::Nothing)\n",
      "   @ Main c:\\Users\\LENOVO\\Documents\\GitHub\\Elevator\\Miniproject776\\mainjl.ipynb:4\n",
      " [3] filter(f::var\"#11#18\"{Int64}, a::Vector{Any})\n",
      "   @ Base .\\array.jl:2675\n",
      " [4] (::var\"#10#17\"{Int64})(i::Vector{Any})\n",
      "   @ Main .\\none:0\n",
      " [5] iterate\n",
      "   @ .\\generator.jl:47 [inlined]\n",
      " [6] collect(itr::Base.Generator{Vector{Any}, var\"#10#17\"{Int64}})\n",
      "   @ Base .\\array.jl:834\n",
      " [7] directionalScan(floorQueue::Vector{Any}, elevatorQueue::Vector{Any}, currentFloor::Int64, direction::Int64)\n",
      "   @ Main c:\\Users\\LENOVO\\Documents\\GitHub\\Elevator\\Miniproject776\\mainjl.ipynb:4\n",
      " [8] top-level scope\n",
      "   @ c:\\Users\\LENOVO\\Documents\\GitHub\\Elevator\\Miniproject776\\mainjl.ipynb:8"
     ]
    }
   ],
   "source": [
    "# Main Loop\n",
    "while currentTime < timeLimit\n",
    "    for i in 1:numberOfFloors\n",
    "        push!(floorQueue[i], generatePeople(i))\n",
    "    end\n",
    "    #filter!.(x -> x != nothing, floorQueue)\n",
    "\n",
    "    directionalScan(floorQueue, elevatorQueue, currentFloor, direction)\n",
    "    display(floorQueue)\n",
    "end"
   ]
  }
 ],
 "metadata": {
  "kernelspec": {
   "display_name": "Julia 1.10.1",
   "language": "julia",
   "name": "julia-1.10"
  },
  "language_info": {
   "file_extension": ".jl",
   "mimetype": "application/julia",
   "name": "julia",
   "version": "1.10.1"
  }
 },
 "nbformat": 4,
 "nbformat_minor": 2
}
